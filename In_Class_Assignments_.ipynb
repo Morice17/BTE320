{
  "nbformat": 4,
  "nbformat_minor": 0,
  "metadata": {
    "colab": {
      "provenance": [],
      "authorship_tag": "ABX9TyPxUTyE8SkXV2TWFoEjpOAZ",
      "include_colab_link": true
    },
    "kernelspec": {
      "name": "python3",
      "display_name": "Python 3"
    },
    "language_info": {
      "name": "python"
    }
  },
  "cells": [
    {
      "cell_type": "markdown",
      "metadata": {
        "id": "view-in-github",
        "colab_type": "text"
      },
      "source": [
        "<a href=\"https://colab.research.google.com/github/Morice17/BTE320/blob/main/In_Class_Assignments_.ipynb\" target=\"_parent\"><img src=\"https://colab.research.google.com/assets/colab-badge.svg\" alt=\"Open In Colab\"/></a>"
      ]
    },
    {
      "cell_type": "code",
      "source": [
        "#In Class Assignment 1\n",
        "pi=3.14\n",
        "r=3\n",
        "h=10\n",
        "Surface_area=2*pi*r*(r+h)\n",
        "print(Surface_area)"
      ],
      "metadata": {
        "colab": {
          "base_uri": "https://localhost:8080/"
        },
        "id": "FLPPToB9C1TF",
        "outputId": "fe1bebfd-ff5d-4a18-d035-be5b04173763"
      },
      "execution_count": null,
      "outputs": [
        {
          "output_type": "stream",
          "name": "stdout",
          "text": [
            "244.92\n"
          ]
        }
      ]
    },
    {
      "cell_type": "code",
      "source": [
        "#Rock paper scissors (In Class Assignment 2)\n",
        "\n",
        "request=input(\"Do you want to play a game (Y/N)\")\n",
        "while request==\"Y\":\n",
        "  print(\"Lets play rock paper scissors!\")\n",
        "  P1=input(\"Player 1, choose rock paper or scissors:\")\n",
        "  P2=input(\"Player 2, choose rock paper or scissors:\")\n",
        "  if P1==P2:\n",
        "    print(\"Draw!\")\n",
        "  elif P1==\"rock\" and P2==\"scissors\":\n",
        "        print(\"Rock beats scissors! P1 wins!\")\n",
        "  elif P1==\"rock\" and P2 == \"paper\":\n",
        "        print(\"Paper covers rock! P2 wins!\")\n",
        "  elif P1==\"scissors\" and P2==\"rock\":\n",
        "        print(\"Rock beats scissors! P2 wins!\")\n",
        "  elif P1==\"scissors\" and P2==\"paper\":\n",
        "        print(\"Scissors beat paper! P1 wins!\")\n",
        "  elif P1==\"paper\" and P2==\"rock\":\n",
        "        print(\"Paper beats rock! P1 wins!\")\n",
        "  elif P1==\"paper\" and P2==\"scissors\":\n",
        "        print(\"Scissors beats paper! P2 wins!\")\n",
        "  request=input(\"Do you want to play again (Y/N)\")\n",
        "if request==\"N\":\n",
        "  print(\"Have a good one!\")"
      ],
      "metadata": {
        "colab": {
          "base_uri": "https://localhost:8080/"
        },
        "id": "NLHGR366OGD9",
        "outputId": "be907770-f92d-4d2e-e803-44b8d042442a"
      },
      "execution_count": null,
      "outputs": [
        {
          "output_type": "stream",
          "name": "stdout",
          "text": [
            "Do you want to play a game (Y/N)Y\n",
            "Lets play rock paper scissors!\n",
            "Player 1, choose rock paper or scissors:rock\n",
            "Player 2, choose rock paper or scissors:scissors\n",
            "Rock beats scissors! P1 wins!\n",
            "Do you want to play again (Y/N)N\n",
            "Have a good one!\n"
          ]
        }
      ]
    },
    {
      "cell_type": "code",
      "source": [
        "#calcualtor (In Class Assignment 3)\n",
        "\n",
        "n1=float(input(\"Enter First Number \"))\n",
        "op=input(\"enter operator (+,-,*,/,^)\")\n",
        "n2=float(input(\"Enter Second Number \"))\n",
        "print()\n",
        "if op==\"+\":\n",
        "    print(n1,\"+\",n2,\"is\",n1+n2)\n",
        "elif op==\"-\":\n",
        "    print(n1,\"-\",n2,\"is\",n1-n2)\n",
        "elif op==\"*\":\n",
        "    print(n1,\"*\",n2,\"is\",n1*n2)\n",
        "elif op==\"/\":\n",
        "    print(n1,\"/\",n2,\"is\",n1/n2)\n",
        "elif op==\"^\":\n",
        "    print(n1,\"^\",n2,\" is \",n1**n2,sep='')\n",
        "else:\n",
        "    print(\"Invalid\")\n"
      ],
      "metadata": {
        "colab": {
          "base_uri": "https://localhost:8080/"
        },
        "id": "aW2ZnkimW6Uf",
        "outputId": "16b8c162-420e-469d-8aac-00040931a272"
      },
      "execution_count": null,
      "outputs": [
        {
          "output_type": "stream",
          "name": "stdout",
          "text": [
            "Enter First Number 90\n",
            "enter operator (+,-,*,/,^)^\n",
            "Enter Second Number 2\n",
            "\n",
            "90.0^2.0 is 8100.0\n"
          ]
        }
      ]
    },
    {
      "cell_type": "code",
      "source": [
        "#In class assignment 9/18/2024\n",
        "for i in range(1,9,1):\n",
        "  price=5+(2.5*i)\n",
        "  if price<10:\n",
        "    price=10.0\n",
        "  elif price>20:\n",
        "    price=20.0\n",
        "  print(i,price)"
      ],
      "metadata": {
        "colab": {
          "base_uri": "https://localhost:8080/"
        },
        "id": "s1PCeFKgZ6Is",
        "outputId": "109b955a-e988-4dbe-901e-05ca02aea21f"
      },
      "execution_count": null,
      "outputs": [
        {
          "output_type": "stream",
          "name": "stdout",
          "text": [
            "1 10.0\n",
            "2 10.0\n",
            "3 12.5\n",
            "4 15.0\n",
            "5 17.5\n",
            "6 20.0\n",
            "7 20.0\n",
            "8 20.0\n"
          ]
        }
      ]
    },
    {
      "cell_type": "code",
      "source": [
        "ticketprice=10\n",
        "fixedcost=200\n",
        "print(\"Adspend|Profir\")\n",
        "for Adspend in range(0,201,25):\n",
        "  volume=20+(2*round(Adspend**.5))\n",
        "  profit=((volume*ticketprice)-fixedcost-(Adspend))\n",
        "  print(Adspend,\" |\", profit)\n"
      ],
      "metadata": {
        "colab": {
          "base_uri": "https://localhost:8080/"
        },
        "id": "BBV3drlcaVCE",
        "outputId": "b8696119-2d2b-40e1-f520-ee8923a3d839"
      },
      "execution_count": null,
      "outputs": [
        {
          "output_type": "stream",
          "name": "stdout",
          "text": [
            "Adspend|Profir\n",
            "0  | 0\n",
            "25  | 75\n",
            "50  | 90\n",
            "75  | 105\n",
            "100  | 100\n",
            "125  | 95\n",
            "150  | 90\n",
            "175  | 85\n",
            "200  | 80\n"
          ]
        }
      ]
    },
    {
      "cell_type": "code",
      "source": [
        "List = []\n",
        "Input=int(input('Input a interger '))\n",
        "while Input != 0:\n",
        "  List.append(Input)\n",
        "  Input=int(input('Input a interger '))\n",
        "print(List)\n",
        "\n",
        "\n",
        "\n"
      ],
      "metadata": {
        "colab": {
          "base_uri": "https://localhost:8080/"
        },
        "id": "ui0oHeMfmccJ",
        "outputId": "b6c6b839-99e0-41f5-f362-983fa3e7fa47"
      },
      "execution_count": null,
      "outputs": [
        {
          "output_type": "stream",
          "name": "stdout",
          "text": [
            "Input a interger 1\n",
            "Input a interger 3\n",
            "Input a interger 4\n",
            "Input a interger 3\n",
            "Input a interger 5\n",
            "Input a interger 6\n",
            "Input a interger 2\n",
            "Input a interger 1\n",
            "Input a interger 0\n",
            "[1, 3, 4, 3, 5, 6, 2, 1]\n"
          ]
        }
      ]
    }
  ]
}