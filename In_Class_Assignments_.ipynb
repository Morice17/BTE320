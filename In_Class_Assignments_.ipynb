{
  "nbformat": 4,
  "nbformat_minor": 0,
  "metadata": {
    "colab": {
      "provenance": [],
      "authorship_tag": "ABX9TyNzrSYrY6PUlqrOu5Yr2DWs",
      "include_colab_link": true
    },
    "kernelspec": {
      "name": "python3",
      "display_name": "Python 3"
    },
    "language_info": {
      "name": "python"
    }
  },
  "cells": [
    {
      "cell_type": "markdown",
      "metadata": {
        "id": "view-in-github",
        "colab_type": "text"
      },
      "source": [
        "<a href=\"https://colab.research.google.com/github/Morice17/BTE320/blob/main/In_Class_Assignments_.ipynb\" target=\"_parent\"><img src=\"https://colab.research.google.com/assets/colab-badge.svg\" alt=\"Open In Colab\"/></a>"
      ]
    },
    {
      "cell_type": "code",
      "source": [
        "#In Class Assignment 1\n",
        "pi=3.14\n",
        "r=3\n",
        "h=10\n",
        "Surface_area=2*pi*r*(r+h)\n",
        "print(Surface_area)"
      ],
      "metadata": {
        "colab": {
          "base_uri": "https://localhost:8080/"
        },
        "id": "FLPPToB9C1TF",
        "outputId": "fe1bebfd-ff5d-4a18-d035-be5b04173763"
      },
      "execution_count": null,
      "outputs": [
        {
          "output_type": "stream",
          "name": "stdout",
          "text": [
            "244.92\n"
          ]
        }
      ]
    },
    {
      "cell_type": "code",
      "source": [
        "#Rock paper scissors (In Class Assignment 2)\n",
        "\n",
        "P1=input(\"Player 1, choose rock paper or scissors:\")\n",
        "P2=input(\"Player 2, choose rock paper or scissors:\")\n",
        "if P1==P2:\n",
        "    print(\"Draw!\")\n",
        "elif P1==\"rock\" and P2==\"scissors\":\n",
        "        print(\"Rock bears scissors! P1 wins!\")\n",
        "elif P1==\"rock\" and P2 == \"paper\":\n",
        "        print(\"Paper covers rock! P2 wins!\")\n",
        "elif P1==\"scissors\" and P2==\"rock\":\n",
        "        print(\"Rock beats scissors! P2 wins!\")\n",
        "elif P1==\"scissors\" and P2==\"paper\":\n",
        "        print(\"Scissors beat paper! P1 wins!\")\n",
        "elif P1==\"paper\" and P2==\"rock\":\n",
        "        print(\"Paper beats rock! P1 wins!\")\n",
        "elif P1==\"paper\" and P2==\"scissors\":\n",
        "        print(\"Scissors beats paper! P2 wins!\")"
      ],
      "metadata": {
        "colab": {
          "base_uri": "https://localhost:8080/"
        },
        "id": "NLHGR366OGD9",
        "outputId": "283df072-0d5f-436c-d0a1-f0ca1394686f"
      },
      "execution_count": null,
      "outputs": [
        {
          "output_type": "stream",
          "name": "stdout",
          "text": [
            "Player 1, choose rock paper or scissors:rock\n",
            "Player 2, choose rock paper or scissors:paper\n",
            "Paper covers rock! P2 wins!\n"
          ]
        }
      ]
    },
    {
      "cell_type": "code",
      "source": [
        "#calcualtor (In Class Assignment 3)\n",
        "\n",
        "n1=float(input(\"Enter First Number \"))\n",
        "op=input(\"enter operator (+,-,*,/,^)\")\n",
        "n2=float(input(\"Enter Second Number \"))\n",
        "print()\n",
        "if op==\"+\":\n",
        "    print(n1,\"+\",n2,\"is\",n1+n2)\n",
        "elif op==\"-\":\n",
        "    print(n1,\"-\",n2,\"is\",n1-n2)\n",
        "elif op==\"*\":\n",
        "    print(n1,\"*\",n2,\"is\",n1*n2)\n",
        "elif op==\"/\":\n",
        "    print(n1,\"/\",n2,\"is\",n1/n2)\n",
        "elif op==\"^\":\n",
        "    print(n1,\"^\",n2,\" is \",n1**n2,sep='')\n",
        "else:\n",
        "    print(\"Invalid\")\n"
      ],
      "metadata": {
        "colab": {
          "base_uri": "https://localhost:8080/"
        },
        "id": "aW2ZnkimW6Uf",
        "outputId": "16b8c162-420e-469d-8aac-00040931a272"
      },
      "execution_count": 16,
      "outputs": [
        {
          "output_type": "stream",
          "name": "stdout",
          "text": [
            "Enter First Number 90\n",
            "enter operator (+,-,*,/,^)^\n",
            "Enter Second Number 2\n",
            "\n",
            "90.0^2.0 is 8100.0\n"
          ]
        }
      ]
    }
  ]
}