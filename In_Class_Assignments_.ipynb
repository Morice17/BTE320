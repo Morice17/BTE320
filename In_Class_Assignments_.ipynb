{
  "nbformat": 4,
  "nbformat_minor": 0,
  "metadata": {
    "colab": {
      "provenance": [],
      "authorship_tag": "ABX9TyOgSnY1BxZmqdvo3J8OEjac",
      "include_colab_link": true
    },
    "kernelspec": {
      "name": "python3",
      "display_name": "Python 3"
    },
    "language_info": {
      "name": "python"
    }
  },
  "cells": [
    {
      "cell_type": "markdown",
      "metadata": {
        "id": "view-in-github",
        "colab_type": "text"
      },
      "source": [
        "<a href=\"https://colab.research.google.com/github/Morice17/BTE320/blob/main/In_Class_Assignments_.ipynb\" target=\"_parent\"><img src=\"https://colab.research.google.com/assets/colab-badge.svg\" alt=\"Open In Colab\"/></a>"
      ]
    },
    {
      "cell_type": "code",
      "source": [
        "#In Class Assignment 1\n",
        "pi=3.14\n",
        "r=3\n",
        "h=10\n",
        "Surface_area=2*pi*r*(r+h)\n",
        "print(Surface_area)"
      ],
      "metadata": {
        "colab": {
          "base_uri": "https://localhost:8080/"
        },
        "id": "FLPPToB9C1TF",
        "outputId": "fe1bebfd-ff5d-4a18-d035-be5b04173763"
      },
      "execution_count": null,
      "outputs": [
        {
          "output_type": "stream",
          "name": "stdout",
          "text": [
            "244.92\n"
          ]
        }
      ]
    },
    {
      "cell_type": "code",
      "source": [
        "#Rock paper scissors (In Class Assignment 2)\n",
        "\n",
        "request=input(\"Do you want to play a game (Y/N)\")\n",
        "while request==\"Y\":\n",
        "  print(\"Lets play rock paper scissors!\")\n",
        "  P1=input(\"Player 1, choose rock paper or scissors:\")\n",
        "  P2=input(\"Player 2, choose rock paper or scissors:\")\n",
        "  if P1==P2:\n",
        "    print(\"Draw!\")\n",
        "  elif P1==\"rock\" and P2==\"scissors\":\n",
        "        print(\"Rock beats scissors! P1 wins!\")\n",
        "  elif P1==\"rock\" and P2 == \"paper\":\n",
        "        print(\"Paper covers rock! P2 wins!\")\n",
        "  elif P1==\"scissors\" and P2==\"rock\":\n",
        "        print(\"Rock beats scissors! P2 wins!\")\n",
        "  elif P1==\"scissors\" and P2==\"paper\":\n",
        "        print(\"Scissors beat paper! P1 wins!\")\n",
        "  elif P1==\"paper\" and P2==\"rock\":\n",
        "        print(\"Paper beats rock! P1 wins!\")\n",
        "  elif P1==\"paper\" and P2==\"scissors\":\n",
        "        print(\"Scissors beats paper! P2 wins!\")\n",
        "  request=input(\"Do you want to play again (Y/N)\")\n",
        "if request==\"N\":\n",
        "  print(\"Have a good one!\")"
      ],
      "metadata": {
        "colab": {
          "base_uri": "https://localhost:8080/"
        },
        "id": "NLHGR366OGD9",
        "outputId": "be907770-f92d-4d2e-e803-44b8d042442a"
      },
      "execution_count": null,
      "outputs": [
        {
          "output_type": "stream",
          "name": "stdout",
          "text": [
            "Do you want to play a game (Y/N)Y\n",
            "Lets play rock paper scissors!\n",
            "Player 1, choose rock paper or scissors:rock\n",
            "Player 2, choose rock paper or scissors:scissors\n",
            "Rock beats scissors! P1 wins!\n",
            "Do you want to play again (Y/N)N\n",
            "Have a good one!\n"
          ]
        }
      ]
    },
    {
      "cell_type": "code",
      "source": [
        "#calcualtor (In Class Assignment 3)\n",
        "\n",
        "n1=float(input(\"Enter First Number \"))\n",
        "op=input(\"enter operator (+,-,*,/,^)\")\n",
        "n2=float(input(\"Enter Second Number \"))\n",
        "print()\n",
        "if op==\"+\":\n",
        "    print(n1,\"+\",n2,\"is\",n1+n2)\n",
        "elif op==\"-\":\n",
        "    print(n1,\"-\",n2,\"is\",n1-n2)\n",
        "elif op==\"*\":\n",
        "    print(n1,\"*\",n2,\"is\",n1*n2)\n",
        "elif op==\"/\":\n",
        "    print(n1,\"/\",n2,\"is\",n1/n2)\n",
        "elif op==\"^\":\n",
        "    print(n1,\"^\",n2,\" is \",n1**n2,sep='')\n",
        "else:\n",
        "    print(\"Invalid\")\n"
      ],
      "metadata": {
        "colab": {
          "base_uri": "https://localhost:8080/"
        },
        "id": "aW2ZnkimW6Uf",
        "outputId": "16b8c162-420e-469d-8aac-00040931a272"
      },
      "execution_count": null,
      "outputs": [
        {
          "output_type": "stream",
          "name": "stdout",
          "text": [
            "Enter First Number 90\n",
            "enter operator (+,-,*,/,^)^\n",
            "Enter Second Number 2\n",
            "\n",
            "90.0^2.0 is 8100.0\n"
          ]
        }
      ]
    },
    {
      "cell_type": "code",
      "source": [
        "#In class assignment 9/18/2024 (Parking Garage)\n",
        "for i in range(1,9,1):\n",
        "  price=5+(2.5*i)\n",
        "  if price<10:\n",
        "    price=10.0\n",
        "  elif price>20:\n",
        "    price=20.0\n",
        "  print(i,price)"
      ],
      "metadata": {
        "colab": {
          "base_uri": "https://localhost:8080/"
        },
        "id": "s1PCeFKgZ6Is",
        "outputId": "109b955a-e988-4dbe-901e-05ca02aea21f"
      },
      "execution_count": null,
      "outputs": [
        {
          "output_type": "stream",
          "name": "stdout",
          "text": [
            "1 10.0\n",
            "2 10.0\n",
            "3 12.5\n",
            "4 15.0\n",
            "5 17.5\n",
            "6 20.0\n",
            "7 20.0\n",
            "8 20.0\n"
          ]
        }
      ]
    },
    {
      "cell_type": "code",
      "source": [
        "#Movie Theater\n",
        "ticketprice=10\n",
        "fixedcost=200\n",
        "print(\"Adspend|Profir\")\n",
        "for Adspend in range(0,201,25):\n",
        "  volume=20+(2*round(Adspend**.5))\n",
        "  profit=((volume*ticketprice)-fixedcost-(Adspend))\n",
        "  print(Adspend,\" |\", profit)\n"
      ],
      "metadata": {
        "colab": {
          "base_uri": "https://localhost:8080/"
        },
        "id": "BBV3drlcaVCE",
        "outputId": "b8696119-2d2b-40e1-f520-ee8923a3d839"
      },
      "execution_count": null,
      "outputs": [
        {
          "output_type": "stream",
          "name": "stdout",
          "text": [
            "Adspend|Profir\n",
            "0  | 0\n",
            "25  | 75\n",
            "50  | 90\n",
            "75  | 105\n",
            "100  | 100\n",
            "125  | 95\n",
            "150  | 90\n",
            "175  | 85\n",
            "200  | 80\n"
          ]
        }
      ]
    },
    {
      "cell_type": "code",
      "source": [
        "List = []\n",
        "Input=int(input('Input a interger '))\n",
        "while Input != 0:\n",
        "  List.append(Input)\n",
        "  Input=int(input('Input a interger '))\n",
        "print(List)\n",
        "\n",
        "\n",
        "\n"
      ],
      "metadata": {
        "colab": {
          "base_uri": "https://localhost:8080/"
        },
        "id": "ui0oHeMfmccJ",
        "outputId": "b0e91e83-1f61-45ea-e995-b612d4a54a0e"
      },
      "execution_count": null,
      "outputs": [
        {
          "output_type": "stream",
          "name": "stdout",
          "text": [
            "Input a interger 1\n",
            "Input a interger 2\n",
            "Input a interger 3\n",
            "Input a interger 0\n",
            "[1, 2, 3]\n"
          ]
        }
      ]
    },
    {
      "cell_type": "code",
      "source": [
        "months = {}\n",
        "names = [\"Jan\", \"Feb\", \"Mar\", \"Apr\", \"May\", \"Jun\", \"Jul\", \"Aug\", \"Sep\", \"Oct\", \"Nov\", \"Dec\"]\n",
        "numbers = [1,2,3,4,5,6,7,8,9,10,11,12]\n",
        "\n",
        "for i in range(1,13):\n",
        "  months[i]=names[i-1]\n",
        "months"
      ],
      "metadata": {
        "colab": {
          "base_uri": "https://localhost:8080/"
        },
        "id": "ZhhMjEVaWNHD",
        "outputId": "86bfd092-e7b6-4d42-97df-8a2d725c694f"
      },
      "execution_count": null,
      "outputs": [
        {
          "output_type": "execute_result",
          "data": {
            "text/plain": [
              "{1: 'Jan',\n",
              " 2: 'Feb',\n",
              " 3: 'Mar',\n",
              " 4: 'Apr',\n",
              " 5: 'May',\n",
              " 6: 'Jun',\n",
              " 7: 'Jul',\n",
              " 8: 'Aug',\n",
              " 9: 'Sep',\n",
              " 10: 'Oct',\n",
              " 11: 'Nov',\n",
              " 12: 'Dec'}"
            ]
          },
          "metadata": {},
          "execution_count": 16
        }
      ]
    },
    {
      "cell_type": "code",
      "source": [
        "# House Hunting\n",
        "portion_down_payment = 0.25\n",
        "current_savings = 0\n",
        "r = .04\n",
        "months=0\n",
        "annual_salary = float(input(\"Enter your annual salary:\"))\n",
        "portion_saved = float(input(\"Enter the percent of your salary to save, as a decimal:\"))\n",
        "total_cost=float(input(\"Enter the cost of your dream home:\"))\n",
        "while current_savings < (total_cost*portion_down_payment):\n",
        "  current_savings += (current_savings*r/12)\n",
        "  current_savings = current_savings+((annual_salary/12)*portion_saved)\n",
        "  months = months + 1\n",
        "print(\"Number of Months:\" ,months)\n",
        "\n",
        "\n"
      ],
      "metadata": {
        "colab": {
          "base_uri": "https://localhost:8080/"
        },
        "id": "qDUWHJ-l75LY",
        "outputId": "ce8d87f3-59a8-4f50-a62f-11fa14fb0da4"
      },
      "execution_count": null,
      "outputs": [
        {
          "output_type": "stream",
          "name": "stdout",
          "text": [
            "Enter your annual salary:120000\n",
            "Enter the percent of your salary to save, as a decimal:.1\n",
            "Enter the cost of your dream home:1000000\n",
            "Number of Months: 183\n"
          ]
        }
      ]
    },
    {
      "cell_type": "code",
      "source": [
        "#House hunting - Saving with a raise\n",
        "portion_down_payment = 0.25\n",
        "current_savings = 0\n",
        "r = .04\n",
        "months=0\n",
        "annual_salary = float(input(\"Enter your annual salary:\"))\n",
        "portion_saved = float(input(\"Enter the percent of your salary to save, as a decimal:\"))\n",
        "total_cost=float(input(\"Enter the cost of your dream home:\"))\n",
        "semi_annual_raise = float(input(\"Enter semi annual raise:\"))\n",
        "while current_savings < (total_cost*portion_down_payment):\n",
        "  current_savings += (current_savings*r/12)\n",
        "  current_savings = current_savings+((annual_salary/12)*portion_saved)\n",
        "  months = months + 1\n",
        "  if months%6 == 0:\n",
        "    annual_salary = annual_salary+(annual_salary * semi_annual_raise)\n",
        "print(\"Number of Months:\" ,months)"
      ],
      "metadata": {
        "colab": {
          "base_uri": "https://localhost:8080/"
        },
        "id": "AjdcFIoA_Nvp",
        "outputId": "46c4f6fc-0242-4049-ac9f-7c06ce90c718"
      },
      "execution_count": null,
      "outputs": [
        {
          "output_type": "stream",
          "name": "stdout",
          "text": [
            "Enter your annual salary:120000\n",
            "Enter the percent of your salary to save, as a decimal:.05\n",
            "Enter the cost of your dream home:500000\n",
            "Enter semi annual raise:.03\n",
            "Number of Months: 142\n"
          ]
        }
      ]
    },
    {
      "cell_type": "code",
      "source": [
        "#Assignment 3-1\n",
        "def range_check (high, low, value):\n",
        "  if value > low and value < high:\n",
        "    print(f\"This value ({value}) is within the range{low,high}\")\n",
        "  else:\n",
        "    print(f\"This value ({value}) is not withing the range {low,high}\")\n",
        "\n",
        "\n",
        "range_check(10,2,11)"
      ],
      "metadata": {
        "id": "B6n66HfVAuM7",
        "colab": {
          "base_uri": "https://localhost:8080/"
        },
        "outputId": "fc2577a8-89b6-4a5b-af04-2706b9ebd4be"
      },
      "execution_count": null,
      "outputs": [
        {
          "output_type": "stream",
          "name": "stdout",
          "text": [
            "This value (11) is not withing the range (2, 10)\n"
          ]
        }
      ]
    },
    {
      "cell_type": "code",
      "source": [
        "#Assignment 3-2\n",
        "def range_check2 (high, low, value):\n",
        "  if value > low and value < high:\n",
        "    return True\n",
        "  else:\n",
        "    return False\n",
        "\n",
        "range_check2(10,3,11)\n"
      ],
      "metadata": {
        "colab": {
          "base_uri": "https://localhost:8080/"
        },
        "id": "Jc7kuGLwtwC_",
        "outputId": "3dbff3b8-a34b-4ff7-e2be-9d79ec8dbad7"
      },
      "execution_count": null,
      "outputs": [
        {
          "output_type": "execute_result",
          "data": {
            "text/plain": [
              "False"
            ]
          },
          "metadata": {},
          "execution_count": 14
        }
      ]
    },
    {
      "cell_type": "code",
      "source": [
        "\n",
        "def calcFee(hours, decimals=2):\n",
        "  fee = round((5 + 2.5 * hours), decimals)\n",
        "  return fee\n",
        "def displayFee(fee):\n",
        "  print(fee)\n",
        "\n",
        "hours_parked = int(input('Enter hours for parking:'))\n",
        "f = calcFee(hours_parked)\n",
        "displayFee(f)\n"
      ],
      "metadata": {
        "colab": {
          "base_uri": "https://localhost:8080/"
        },
        "id": "3pXUmlNDcMkr",
        "outputId": "96c7a10a-ddc9-42c9-d2e2-ca868f4654d3"
      },
      "execution_count": null,
      "outputs": [
        {
          "output_type": "stream",
          "name": "stdout",
          "text": [
            "Enter hours for parking:9\n",
            "27.5\n"
          ]
        }
      ]
    },
    {
      "cell_type": "code",
      "source": [
        "#String reversal\n",
        "def StringRev(s):\n",
        "  if len(s)==1:\n",
        "    return s\n",
        "  else:\n",
        "    return s[-1]+StringRev(s[:-1])\n",
        "\n",
        "StringRev(\"hello\")"
      ],
      "metadata": {
        "id": "pAUCtOrHekhK",
        "colab": {
          "base_uri": "https://localhost:8080/",
          "height": 35
        },
        "outputId": "ca7d02da-4608-42e0-f03e-d9482c3dcc60"
      },
      "execution_count": null,
      "outputs": [
        {
          "output_type": "execute_result",
          "data": {
            "text/plain": [
              "'olleh'"
            ],
            "application/vnd.google.colaboratory.intrinsic+json": {
              "type": "string"
            }
          },
          "metadata": {},
          "execution_count": 14
        }
      ]
    },
    {
      "cell_type": "code",
      "source": [
        "# Weighted Average List\n",
        "def wAvg(L, w):\n",
        "  try:\n",
        "    res=[]\n",
        "    for i in range(len(L)):\n",
        "      res.append(L[i]*w[i])\n",
        "    return sum(res)/sum(w)\n",
        "  except ZeroDivisionError:\n",
        "    print(\"Division by zero\")\n",
        "  except TypeError:\n",
        "    print()\n",
        "  except Exception as e:\n",
        "\t  print(e)\n",
        "\n",
        "li = [1,2,3,4,5]\n",
        "we = [.1,.4,.2,.25,.05]\n",
        "print(wAvg(li, we))\n"
      ],
      "metadata": {
        "colab": {
          "base_uri": "https://localhost:8080/"
        },
        "id": "PHtaHHZ9Ch-J",
        "outputId": "3f15b111-c062-4315-9225-e35b7388ea7a"
      },
      "execution_count": null,
      "outputs": [
        {
          "output_type": "stream",
          "name": "stdout",
          "text": [
            "2.75\n"
          ]
        }
      ]
    },
    {
      "cell_type": "code",
      "source": [
        "class Student:\n",
        "  def __init__(self, name, number):\n",
        "      self.name = name\n",
        "      self.number = number\n",
        "\n",
        "  def student_code(self):\n",
        "    print(f\"name{self.name}, number:{self.number}\")\n",
        "\n"
      ],
      "metadata": {
        "id": "JETnV3wo24Z0"
      },
      "execution_count": 5,
      "outputs": []
    },
    {
      "cell_type": "code",
      "source": [
        "s1 = Student(\"James Bond\", \"007\")\n",
        "s2 = Student(\"Clark Kent\", \"333\")"
      ],
      "metadata": {
        "id": "Zklx7fLM3yUn"
      },
      "execution_count": 9,
      "outputs": []
    },
    {
      "cell_type": "code",
      "source": [],
      "metadata": {
        "id": "UGygfElo5d_y"
      },
      "execution_count": null,
      "outputs": []
    }
  ]
}